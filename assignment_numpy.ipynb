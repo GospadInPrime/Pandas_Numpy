{
 "cells": [
  {
   "cell_type": "markdown",
   "id": "d3df79dd",
   "metadata": {},
   "source": [
    "## Упражнения по библиотеке Numpy"
   ]
  },
  {
   "cell_type": "code",
   "execution_count": 2,
   "id": "76b9c43b",
   "metadata": {},
   "outputs": [],
   "source": [
    "import numpy as np"
   ]
  },
  {
   "cell_type": "markdown",
   "id": "03727b7c",
   "metadata": {},
   "source": [
    "**1.** Дан случайный массив, поменять знак у элементов, значения которых между 3 и 8"
   ]
  },
  {
   "cell_type": "code",
   "execution_count": 3,
   "id": "b89a7523",
   "metadata": {},
   "outputs": [
    {
     "name": "stdout",
     "output_type": "stream",
     "text": [
      "[ 3  3  3  2 -7 -5  2 -4 -4 -4]\n"
     ]
    }
   ],
   "source": [
    "# создаём случайный массив\n",
    "rand_array = np.random.randint(0, 10, 10)\n",
    "mask = (rand_array > 3) & (rand_array < 8)\n",
    "rand_array[mask] *= -1\n",
    "print(rand_array)"
   ]
  },
  {
   "cell_type": "markdown",
   "id": "5fa4abda",
   "metadata": {},
   "source": [
    "**2.** Заменить максимальный элемент случайного массива на 0"
   ]
  },
  {
   "cell_type": "code",
   "execution_count": 4,
   "id": "f2788a6e",
   "metadata": {},
   "outputs": [
    {
     "name": "stdout",
     "output_type": "stream",
     "text": [
      "[3 9 4 5 3 2 6 5 0 8]\n"
     ]
    },
    {
     "data": {
      "text/plain": [
       "array([3, 0, 4, 5, 3, 2, 6, 5, 0, 8])"
      ]
     },
     "execution_count": 4,
     "metadata": {},
     "output_type": "execute_result"
    }
   ],
   "source": [
    "# your cod\n",
    "rand_array = np.random.randint(0, 10, 10)\n",
    "print(rand_array)\n",
    "max_index = np.argmax(rand_array)\n",
    "rand_array[max_index] = 0\n",
    "rand_array"
   ]
  },
  {
   "cell_type": "markdown",
   "id": "3cac656b",
   "metadata": {},
   "source": [
    "**3.** Построить прямое произведение массивов (все комбинации с каждым элементом). На вход подается двумерный массив\n",
    "\n"
   ]
  },
  {
   "cell_type": "code",
   "execution_count": 5,
   "id": "3396b764",
   "metadata": {},
   "outputs": [
    {
     "data": {
      "text/plain": [
       "array([[ 4,  5,  6],\n",
       "       [ 8, 10, 12],\n",
       "       [12, 15, 18]])"
      ]
     },
     "execution_count": 5,
     "metadata": {},
     "output_type": "execute_result"
    }
   ],
   "source": [
    "# your code\n",
    "array_1 = [1, 2, 3]\n",
    "array_2 = [4, 5, 6]\n",
    "\n",
    "\n",
    "array_3 = np.kron(array_1, array_2)\n",
    "# Преобраз в матрицу \n",
    "array_3 = array_3.reshape(len(array_1), len(array_2))\n",
    "array_3"
   ]
  },
  {
   "cell_type": "markdown",
   "id": "674c9354",
   "metadata": {},
   "source": [
    "**4.** Даны 2 массива A (8x3) и B (2x2). Найти строки в A, которые содержат элементы из каждой строки в B, независимо от порядка элементов в B"
   ]
  },
  {
   "cell_type": "code",
   "execution_count": 6,
   "id": "cb664782",
   "metadata": {},
   "outputs": [
    {
     "name": "stdout",
     "output_type": "stream",
     "text": [
      "[[2 4 6]\n",
      " [8 9 3]\n",
      " [1 8 4]\n",
      " [1 5 0]\n",
      " [6 8 8]\n",
      " [1 0 4]\n",
      " [9 7 4]\n",
      " [7 1 9]] \n",
      "\n",
      "[[0 1]\n",
      " [8 2]] \n",
      "\n",
      "[{0, 1}, {8, 2}] \n",
      "\n"
     ]
    }
   ],
   "source": [
    "# Массив A\n",
    "A = np.random.randint(0, 10, (8, 3))\n",
    "print(A, '\\n')\n",
    "# Массив B \n",
    "B = np.random.randint(0, 10, (2, 2))\n",
    "print(B, '\\n')\n",
    "\n",
    "sets_B = [set(i) for i in B]\n",
    "print(sets_B, '\\n')\n",
    "\n",
    "result = []\n",
    "for row_A in A:\n",
    "    set_A = set(row_A)\n",
    "    if all(set_B.issubset(set_A) for set_B in sets_B):\n",
    "        result.append(row_A)\n",
    "\n",
    "result = np.array(result)\n"
   ]
  },
  {
   "cell_type": "markdown",
   "id": "fa46533b",
   "metadata": {},
   "source": [
    "**5.** Дана 10x3 матрица, найти строки из неравных значений (например строка [2,2,3] остается, строка [3,3,3] удаляется)"
   ]
  },
  {
   "cell_type": "code",
   "execution_count": 7,
   "id": "fa545b23",
   "metadata": {},
   "outputs": [
    {
     "name": "stdout",
     "output_type": "stream",
     "text": [
      "[[0 1 0]\n",
      " [1 1 1]\n",
      " [1 0 0]\n",
      " [1 0 1]\n",
      " [0 1 0]\n",
      " [1 0 0]\n",
      " [0 1 0]\n",
      " [0 0 0]\n",
      " [1 1 1]\n",
      " [1 0 1]] \n",
      "\n",
      "[[0 1 0]\n",
      " [1 0 0]\n",
      " [1 0 1]\n",
      " [0 1 0]\n",
      " [1 0 0]\n",
      " [0 1 0]\n",
      " [1 0 1]]\n"
     ]
    }
   ],
   "source": [
    "# your code\n",
    "set = np.random.randint(0, 2, (10, 3))\n",
    "print(set, '\\n')\n",
    "# Находим строки с неравными значениями\n",
    "set_2 = np.array([i for i in set if len(np.unique(i)) > 1])\n",
    "print(set_2)"
   ]
  },
  {
   "cell_type": "markdown",
   "id": "28f0d116",
   "metadata": {},
   "source": [
    "**6.** Дан двумерный массив. Удалить те строки, которые повторяются"
   ]
  },
  {
   "cell_type": "code",
   "execution_count": 8,
   "id": "83d2c0b7",
   "metadata": {},
   "outputs": [
    {
     "name": "stdout",
     "output_type": "stream",
     "text": [
      "[[2 4 6]\n",
      " [1 1 1]\n",
      " [2 5 3]\n",
      " [1 1 1]\n",
      " [5 3 2]\n",
      " [1 1 1]] \n",
      "\n",
      "[[2 4 6]\n",
      " [1 1 1]\n",
      " [2 5 3]\n",
      " [5 3 2]]\n"
     ]
    }
   ],
   "source": [
    "# your code\n",
    "set = np.array([\n",
    "    [2, 4, 6],\n",
    "    [1, 1, 1],\n",
    "    [2, 5, 3],\n",
    "    [1, 1, 1],\n",
    "    [5, 3, 2],\n",
    "    [1, 1, 1]\n",
    "    \n",
    "])\n",
    "print(set, '\\n')\n",
    "\n",
    "un_rows, un_ind = np.unique(set, axis=0, return_index=True)\n",
    "un_set = set[np.sort(un_ind)]\n",
    "print(un_set)"
   ]
  },
  {
   "cell_type": "markdown",
   "id": "6daa9e37",
   "metadata": {},
   "source": [
    "______\n",
    "______"
   ]
  },
  {
   "cell_type": "markdown",
   "id": "cfbfcaff",
   "metadata": {},
   "source": [
    "Для каждой из следующих задач (1-5) нужно привести 2 реализации – одна без использования numpy (cчитайте, что там, где на входе или выходе должны быть numpy array, будут просто списки), а вторая полностью векторизованная с использованием numpy (без использования питоновских циклов/map/list comprehension).\n",
    "\n",
    "\n",
    "__Замечание 1.__ Можно считать, что все указанные объекты непустые (к примеру, в __задаче 1__ на диагонали матрицы есть ненулевые элементы).\n",
    "\n",
    "__Замечание 2.__ Для большинства задач решение занимает не больше 1-2 строк."
   ]
  },
  {
   "cell_type": "markdown",
   "id": "673cac7f",
   "metadata": {},
   "source": [
    "___"
   ]
  },
  {
   "cell_type": "markdown",
   "id": "ca6f585e",
   "metadata": {},
   "source": [
    "* __Задача 1__: Подсчитать произведение ненулевых элементов на диагонали прямоугольной матрицы.  \n",
    " Например, для X = np.array([[1, 0, 1], [2, 0, 2], [3, 0, 3], [4, 4, 4]]) ответ 3."
   ]
  },
  {
   "cell_type": "code",
   "execution_count": 9,
   "id": "065862fc",
   "metadata": {},
   "outputs": [
    {
     "name": "stdout",
     "output_type": "stream",
     "text": [
      "3\n"
     ]
    }
   ],
   "source": [
    "# NoNumpy\n",
    "def product_non_zero_diagonal(matrix):\n",
    "    product = 1\n",
    "    min_dim = min(len(matrix), len(matrix[0]))\n",
    "    for i in range(min_dim):\n",
    "        if matrix[i][i] != 0:\n",
    "            product *= matrix[i][i]\n",
    "    return product\n",
    "\n",
    "# Пример использования\n",
    "matrix = [[1, 0, 1], [2, 0, 2], [3, 0, 3], [4, 4, 4]]\n",
    "result = product_non_zero_diagonal(matrix)\n",
    "print(result)"
   ]
  },
  {
   "cell_type": "code",
   "execution_count": 10,
   "id": "eda3b89a",
   "metadata": {},
   "outputs": [
    {
     "name": "stdout",
     "output_type": "stream",
     "text": [
      "3\n"
     ]
    }
   ],
   "source": [
    "# Numpy\n",
    "def product_non_zero_diagonal_numpy(matrix):\n",
    "    diagonal_elements = np.diag(matrix)\n",
    "    non_zero_diagonal_elements = diagonal_elements[diagonal_elements != 0]\n",
    "    product = np.prod(non_zero_diagonal_elements)\n",
    "    return product\n",
    "\n",
    "# Пример использования\n",
    "matrix = np.array([[1, 0, 1], [2, 0, 2], [3, 0, 3], [4, 4, 4]])\n",
    "result = product_non_zero_diagonal_numpy(matrix)\n",
    "print(result) "
   ]
  },
  {
   "cell_type": "markdown",
   "id": "9fc51d41",
   "metadata": {},
   "source": [
    "* __Задача 2__: Даны два вектора x и y. Проверить, задают ли они одно и то же мультимножество.  \n",
    "  Например, для x = np.array([1, 2, 2, 4]), y = np.array([4, 2, 1, 2]) ответ True."
   ]
  },
  {
   "cell_type": "code",
   "execution_count": 11,
   "id": "a809e02f",
   "metadata": {},
   "outputs": [
    {
     "name": "stdout",
     "output_type": "stream",
     "text": [
      "True\n"
     ]
    }
   ],
   "source": [
    "#NoNumpy\n",
    "def are_multisets_equal(x, y):\n",
    "    return sorted(x) == sorted(y)\n",
    "\n",
    "# Пример использования\n",
    "x = [1, 2, 2, 4]\n",
    "y = [4, 2, 1, 2]\n",
    "result = are_multisets_equal(x, y)\n",
    "print(result)  "
   ]
  },
  {
   "cell_type": "code",
   "execution_count": 12,
   "id": "20c37f96",
   "metadata": {},
   "outputs": [
    {
     "name": "stdout",
     "output_type": "stream",
     "text": [
      "True\n"
     ]
    }
   ],
   "source": [
    "# Numpy\n",
    "def are_multisets_equal_numpy(x, y):\n",
    "    return np.array_equal(np.sort(x), np.sort(y))\n",
    "\n",
    "# Пример использования\n",
    "x = np.array([1, 2, 2, 4])\n",
    "y = np.array([4, 2, 1, 2])\n",
    "result = are_multisets_equal_numpy(x, y)\n",
    "print(result)"
   ]
  },
  {
   "cell_type": "markdown",
   "id": "b9c185c7",
   "metadata": {},
   "source": [
    "* __Задача 3__: Найти максимальный элемент в векторе x среди элементов, перед которыми стоит ноль. \n",
    " Например, для x = np.array([6, 2, 0, 3, 0, 0, 5, 7, 0]) ответ 5."
   ]
  },
  {
   "cell_type": "code",
   "execution_count": 13,
   "id": "b57df008",
   "metadata": {},
   "outputs": [
    {
     "name": "stdout",
     "output_type": "stream",
     "text": [
      "3\n"
     ]
    }
   ],
   "source": [
    "# NoNumpy\n",
    "def max_after_zero(x):\n",
    "    max_value = float('-inf')\n",
    "    found_zero = False\n",
    "\n",
    "    for elem in x:\n",
    "        if found_zero:\n",
    "            max_value = max(max_value, elem)\n",
    "            found_zero = False\n",
    "        elif elem == 0:\n",
    "            found_zero = True\n",
    "\n",
    "    return max_value\n",
    "\n",
    "# Пример использования\n",
    "x = [6, 2, 0, 3, 0, 0, 5, 7, 0]\n",
    "result = max_after_zero(x)\n",
    "print(result)"
   ]
  },
  {
   "cell_type": "code",
   "execution_count": 14,
   "id": "9c3671de",
   "metadata": {},
   "outputs": [
    {
     "name": "stdout",
     "output_type": "stream",
     "text": [
      "5\n"
     ]
    }
   ],
   "source": [
    "# Numpy\n",
    "def max_after_zero_numpy(x):\n",
    "    zeros = np.where(x == 0)[0]\n",
    "    if len(zeros) == 0:\n",
    "        return None\n",
    "\n",
    "    # Индексы элементов после нулей\n",
    "    next_indices = zeros + 1\n",
    "\n",
    "    # Исключаем нули, которые находятся в конце\n",
    "    next_indices = next_indices[next_indices < len(x)]\n",
    "\n",
    "    # Находим максимальный элемент после нуля\n",
    "    max_value = np.max(x[next_indices])\n",
    "\n",
    "    return max_value\n",
    "\n",
    "# Пример использования\n",
    "x = np.array([6, 2, 0, 3, 0, 0, 5, 7, 0])\n",
    "result = max_after_zero_numpy(x)\n",
    "print(result)"
   ]
  },
  {
   "cell_type": "markdown",
   "id": "480be4ce",
   "metadata": {},
   "source": [
    "* __Задача 4__: Реализовать кодирование длин серий (Run-length encoding). Для некоторого вектора x необходимо вернуть кортеж из двух векторов одинаковой длины. Первый содержит числа, а второй - сколько раз их нужно повторить.  \n",
    " Например, для x = np.array([2, 2, 2, 3, 3, 3, 5]) ответ (np.array([2, 3, 5]), np.array([3, 3, 1]))."
   ]
  },
  {
   "cell_type": "code",
   "execution_count": 15,
   "id": "3c592124",
   "metadata": {},
   "outputs": [
    {
     "name": "stdout",
     "output_type": "stream",
     "text": [
      "([2, 3, 5], [3, 3, 1])\n"
     ]
    }
   ],
   "source": [
    "def run_length_encoding(x):\n",
    "    if not x:\n",
    "        return ([], [])\n",
    "\n",
    "    numbers = [x[0]]\n",
    "    counts = [1]\n",
    "\n",
    "    for i in range(1, len(x)):\n",
    "        if x[i] == x[i - 1]:\n",
    "            counts[-1] += 1\n",
    "        else:\n",
    "            numbers.append(x[i])\n",
    "            counts.append(1)\n",
    "\n",
    "    return (numbers, counts)\n",
    "\n",
    "# Пример использования\n",
    "x = [2, 2, 2, 3, 3, 3, 5]\n",
    "result = run_length_encoding(x)\n",
    "print(result)\n"
   ]
  },
  {
   "cell_type": "code",
   "execution_count": 16,
   "id": "2a3de498",
   "metadata": {},
   "outputs": [
    {
     "name": "stdout",
     "output_type": "stream",
     "text": [
      "(array([2, 3]), array([1, 3], dtype=int64))\n"
     ]
    }
   ],
   "source": [
    "# Numpy\n",
    "def run_length_encoding_numpy(x):\n",
    "    if len(x) == 0:\n",
    "        return (np.array([]), np.array([]))\n",
    "\n",
    "    # Индексы, где меняется элемент\n",
    "    change_indices = np.where(x[:-1] != x[1:])[0]\n",
    "\n",
    "    # Найдем числа и их количество\n",
    "    numbers = x[change_indices]\n",
    "    counts = np.diff(np.concatenate(([change_indices[0] + 1], change_indices + 2)))\n",
    "\n",
    "    return (numbers, counts)\n",
    "\n",
    "# Пример использования\n",
    "x = np.array([2, 2, 2, 3, 3, 3, 5])\n",
    "result = run_length_encoding_numpy(x)\n",
    "print(result)"
   ]
  },
  {
   "cell_type": "markdown",
   "id": "077532ec",
   "metadata": {},
   "source": [
    "* __Задача 5__: Даны две выборки объектов - X и Y. Вычислить матрицу евклидовых расстояний между объектами. Сравните с функцией scipy.spatial.distance.cdist по скорости работы."
   ]
  },
  {
   "cell_type": "code",
   "execution_count": 20,
   "id": "4157f4a7",
   "metadata": {},
   "outputs": [
    {
     "name": "stdout",
     "output_type": "stream",
     "text": [
      "Евклидовы расстояния (NumPy):\n",
      "[[1.41421356 5.65685425]\n",
      " [2.82842712 1.41421356]\n",
      " [7.07106781 2.82842712]]\n"
     ]
    }
   ],
   "source": [
    "# Numpy \n",
    "def euclidean_distance_matrix(X, Y):\n",
    "    # Вычисление квадрата Евклидова расстояния между каждой парой объектов\n",
    "    distances_sq = np.sum(X**2, axis=1, keepdims=True) + np.sum(Y**2, axis=1) - 2*np.dot(X, Y.T)\n",
    "    # Обработка отрицательных нулевых расстояний из-за ошибок округления\n",
    "    distances_sq[distances_sq < 0] = 0\n",
    "    # Вычисление Евклидовых расстояний\n",
    "    distances = np.sqrt(distances_sq)\n",
    "    return distances\n",
    "\n",
    "# Пример использования\n",
    "X = np.array([[1, 2], [4, 5], [7, 8]])\n",
    "Y = np.array([[2, 3], [5, 6]])\n",
    "result_numpy = euclidean_distance_matrix(X, Y)\n",
    "print(\"Евклидовы расстояния (NumPy):\")\n",
    "print(result_numpy)"
   ]
  },
  {
   "cell_type": "code",
   "execution_count": 21,
   "id": "1e807797",
   "metadata": {},
   "outputs": [
    {
     "name": "stdout",
     "output_type": "stream",
     "text": [
      "Время выполнения (NumPy): 1.6297791004180908\n",
      "Время выполнения (cdist): 0.05544734001159668\n",
      "Результаты совпадают: True\n"
     ]
    }
   ],
   "source": [
    "# scipy.spatial.distance.cdist\n",
    "from scipy.spatial.distance import cdist\n",
    "import time\n",
    "\n",
    "# Генерация случайных выборок X и Y\n",
    "np.random.seed(0)\n",
    "X = np.random.rand(1000, 100)\n",
    "Y = np.random.rand(500, 100)\n",
    "\n",
    "# Вычисление матрицы Евклидовых расстояний с использованием NumPy\n",
    "start_time = time.time()\n",
    "result_numpy = euclidean_distance_matrix(X, Y)\n",
    "numpy_execution_time = time.time() - start_time\n",
    "\n",
    "# Вычисление матрицы Евклидовых расстояний с использованием cdist\n",
    "start_time = time.time()\n",
    "result_cdist = cdist(X, Y)\n",
    "cdist_execution_time = time.time() - start_time\n",
    "\n",
    "print(\"Время выполнения (NumPy):\", numpy_execution_time)\n",
    "print(\"Время выполнения (cdist):\", cdist_execution_time)\n",
    "\n",
    "# Проверка корректности результатов\n",
    "print(\"Результаты совпадают:\", np.allclose(result_numpy, result_cdist))\n"
   ]
  },
  {
   "cell_type": "markdown",
   "id": "973e8064",
   "metadata": {},
   "source": [
    "_______\n",
    "________"
   ]
  },
  {
   "cell_type": "markdown",
   "id": "1104acb7",
   "metadata": {},
   "source": [
    "* #### __Задача 6__: CrunchieMunchies __*__\n",
    "\n",
    "Вы работаете в отделе маркетинга пищевой компании MyCrunch, которая разрабатывает новый вид вкусных, полезных злаков под названием **CrunchieMunchies**.\n",
    "\n",
    "Вы хотите продемонстрировать потребителям, насколько полезны ваши хлопья по сравнению с другими ведущими брендами, поэтому вы собрали данные о питании нескольких разных конкурентов.\n",
    "\n",
    "Ваша задача - использовать вычисления Numpy для анализа этих данных и доказать, что ваши **СrunchieMunchies** - самый здоровый выбор для потребителей.\n"
   ]
  },
  {
   "cell_type": "code",
   "execution_count": 22,
   "id": "10a77f8d",
   "metadata": {},
   "outputs": [],
   "source": [
    "import numpy as np"
   ]
  },
  {
   "cell_type": "markdown",
   "id": "ab87cb03",
   "metadata": {},
   "source": [
    "1. Просмотрите файл cereal.csv. Этот файл содержит количества калорий для различных марок хлопьев. Загрузите данные из файла и сохраните их как calorie_stats."
   ]
  },
  {
   "cell_type": "code",
   "execution_count": 31,
   "id": "9681ebf2",
   "metadata": {},
   "outputs": [
    {
     "data": {
      "text/plain": [
       "array([ 70., 120.,  70.,  50., 110., 110., 110., 130.,  90.,  90., 120.,\n",
       "       110., 120., 110., 110., 110., 100., 110., 110., 110., 100., 110.,\n",
       "       100., 100., 110., 110., 100., 120., 120., 110., 100., 110., 100.,\n",
       "       110., 120., 120., 110., 110., 110., 140., 110., 100., 110., 100.,\n",
       "       150., 150., 160., 100., 120., 140.,  90., 130., 120., 100.,  50.,\n",
       "        50., 100., 100., 120., 100.,  90., 110., 110.,  80.,  90.,  90.,\n",
       "       110., 110.,  90., 110., 140., 100., 110., 110., 100., 100., 110.])"
      ]
     },
     "execution_count": 31,
     "metadata": {},
     "output_type": "execute_result"
    }
   ],
   "source": [
    "calorie_stats = np.loadtxt(\"D:\\\\GitHub\\\\Task_2_Numpy_Pandas\\\\cereal.csv\", delimiter=\",\")\n",
    "calorie_stats"
   ]
  },
  {
   "cell_type": "markdown",
   "id": "139cfbd8",
   "metadata": {},
   "source": [
    "2. В одной порции CrunchieMunchies содержится 60 калорий. Насколько выше среднее количество калорий у ваших конкурентов?\n",
    "\n",
    "Сохраните ответ в переменной average_calories и распечатайте переменную в терминале"
   ]
  },
  {
   "cell_type": "code",
   "execution_count": 67,
   "id": "7036d240",
   "metadata": {},
   "outputs": [
    {
     "data": {
      "text/plain": [
       "106.88311688311688"
      ]
     },
     "execution_count": 67,
     "metadata": {},
     "output_type": "execute_result"
    }
   ],
   "source": [
    "Crunchie_Munchies_cal = 60\n",
    "average_calories = np.average(calorie_stats)\n",
    "average_calories\n"
   ]
  },
  {
   "cell_type": "markdown",
   "id": "b2ddb4cd",
   "metadata": {},
   "source": [
    "3. Корректно ли среднее количество калорий отражает распределение набора данных? Давайте отсортируем данные и посмотрим.\n",
    "\n",
    "Отсортируйте данные и сохраните результат в переменной calorie_stats_sorted. Распечатайте отсортированную информацию"
   ]
  },
  {
   "cell_type": "code",
   "execution_count": 68,
   "id": "46eeb4ed",
   "metadata": {},
   "outputs": [
    {
     "data": {
      "text/plain": [
       "array([ 50.,  50.,  50.,  70.,  70.,  80.,  90.,  90.,  90.,  90.,  90.,\n",
       "        90.,  90., 100., 100., 100., 100., 100., 100., 100., 100., 100.,\n",
       "       100., 100., 100., 100., 100., 100., 100., 100., 110., 110., 110.,\n",
       "       110., 110., 110., 110., 110., 110., 110., 110., 110., 110., 110.,\n",
       "       110., 110., 110., 110., 110., 110., 110., 110., 110., 110., 110.,\n",
       "       110., 110., 110., 110., 120., 120., 120., 120., 120., 120., 120.,\n",
       "       120., 120., 120., 130., 130., 140., 140., 140., 150., 150., 160.])"
      ]
     },
     "execution_count": 68,
     "metadata": {},
     "output_type": "execute_result"
    }
   ],
   "source": [
    "calorie_stats_sorted = np.sort(calorie_stats)\n",
    "calorie_stats_sorted"
   ]
  },
  {
   "cell_type": "markdown",
   "id": "4dc74116",
   "metadata": {},
   "source": [
    "4. Похоже, что большинство значений выше среднего. Давайте посмотрим, является ли медиана наиболее корректным показателем набора данных.\n",
    "\n",
    "Вычислите медиану набора данных и сохраните свой ответ в median_calories. Выведите медиану, чтобы вы могли видеть, как она сравнивается со средним значением."
   ]
  },
  {
   "cell_type": "code",
   "execution_count": 74,
   "id": "b56627c3",
   "metadata": {},
   "outputs": [
    {
     "data": {
      "text/plain": [
       "110.0"
      ]
     },
     "execution_count": 74,
     "metadata": {},
     "output_type": "execute_result"
    }
   ],
   "source": [
    "median_calories = np.median(calorie_stats_sorted)\n",
    "median_calories"
   ]
  },
  {
   "cell_type": "markdown",
   "id": "a63ab72f",
   "metadata": {},
   "source": [
    "5. В то время как медиана показывает, что по крайней мере половина наших значений составляет более 100 калорий, было бы более впечатляюще показать, что значительная часть конкурентов имеет более высокое количество калорий, чем CrunchieMunchies.\n",
    "\n",
    "Рассчитайте различные процентили и распечатайте их, пока не найдете наименьший процентиль, превышающий 60 калорий. Сохраните это значение в переменной nth_percentile."
   ]
  },
  {
   "cell_type": "code",
   "execution_count": 79,
   "id": "fe80ce03",
   "metadata": {},
   "outputs": [
    {
     "data": {
      "text/plain": [
       "70.0"
      ]
     },
     "execution_count": 79,
     "metadata": {},
     "output_type": "execute_result"
    }
   ],
   "source": [
    "# Проценнтиль(начинаем с 0)\n",
    "perc = 0\n",
    "# Ищем наименший процентиль, превышающий 60 калл\n",
    "while True:\n",
    "    nth_percentile = np.percentile(calorie_stats, perc)\n",
    "    if nth_percentile > 60:\n",
    "        break\n",
    "    perc += 1\n",
    "\n",
    "nth_percentile"
   ]
  },
  {
   "cell_type": "markdown",
   "id": "a2a3c5aa",
   "metadata": {},
   "source": [
    "6. Хотя процентиль показывает нам, что у большинства конкурентов количество калорий намного выше, это неудобная концепция для использования в маркетинговых материалах.\n",
    "\n",
    "Вместо этого давайте подсчитаем процент хлопьев, в которых содержится более 60 калорий на порцию. Сохраните свой ответ в переменной more_calories и распечатайте его"
   ]
  },
  {
   "cell_type": "code",
   "execution_count": 83,
   "id": "ade0f6ea",
   "metadata": {},
   "outputs": [
    {
     "name": "stdout",
     "output_type": "stream",
     "text": [
      "96.1038961038961 %\n"
     ]
    }
   ],
   "source": [
    "# процент хлопьев с более чем 60 кал\n",
    "more_calories = np.sum(calorie_stats > 60) / len(calorie_stats) * 100\n",
    "print(more_calories, '%')"
   ]
  },
  {
   "cell_type": "markdown",
   "id": "1735d65b",
   "metadata": {},
   "source": [
    "7. Это действительно высокий процент. Это будет очень полезно, когда мы будем продвигать CrunchieMunchies. Но один вопрос заключается в том, насколько велики различия в наборе данных? Можем ли мы сделать обобщение, что в большинстве злаков содержится около 100 калорий или разброс еще больше?\n",
    "\n",
    "Рассчитайте величину отклонения, найдя стандартное отклонение, Сохраните свой ответ в calorie_std и распечатайте на терминале. Как мы можем включить эту ценность в наш анализ?"
   ]
  },
  {
   "cell_type": "code",
   "execution_count": 86,
   "id": "85c8df1f",
   "metadata": {},
   "outputs": [
    {
     "data": {
      "text/plain": [
       "19.35718533390827"
      ]
     },
     "execution_count": 86,
     "metadata": {},
     "output_type": "execute_result"
    }
   ],
   "source": [
    "calorie_std = np.std(calorie_stats)\n",
    "calorie_std"
   ]
  },
  {
   "cell_type": "markdown",
   "id": "037455c5",
   "metadata": {},
   "source": [
    "8. Напишите короткий абзац, в котором кратко изложите свои выводы и то, как, по вашему мнению, эти данные могут быть использованы в интересах Mycrunch при маркетинге CrunchieMunchies."
   ]
  },
  {
   "cell_type": "code",
   "execution_count": 87,
   "id": "c260fee9",
   "metadata": {},
   "outputs": [],
   "source": [
    "# your code"
   ]
  }
 ],
 "metadata": {
  "kernelspec": {
   "display_name": "Python 3 (ipykernel)",
   "language": "python",
   "name": "python3"
  },
  "language_info": {
   "codemirror_mode": {
    "name": "ipython",
    "version": 3
   },
   "file_extension": ".py",
   "mimetype": "text/x-python",
   "name": "python",
   "nbconvert_exporter": "python",
   "pygments_lexer": "ipython3",
   "version": "3.9.12"
  }
 },
 "nbformat": 4,
 "nbformat_minor": 5
}
